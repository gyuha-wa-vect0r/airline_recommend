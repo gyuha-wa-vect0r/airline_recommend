{
 "cells": [
  {
   "cell_type": "markdown",
   "metadata": {},
   "source": [
    "# 1. 사용자 입력 받기\n",
    "IATA 코드로 여행 구간을 입력받습니다.  "
   ]
  },
  {
   "cell_type": "code",
   "execution_count": 10,
   "metadata": {},
   "outputs": [
    {
     "name": "stdout",
     "output_type": "stream",
     "text": [
      "사용자 정보를 입력하세요:\n",
      "서비스 선호도를 입력하세요 (1~5 순위):\n"
     ]
    }
   ],
   "source": [
    "def get_user_input():\n",
    "    \"\"\"\n",
    "    사용자로부터 입력값을 받습니다.\n",
    "    \"\"\"\n",
    "    print(\"사용자 정보를 입력하세요:\")\n",
    "    seat_type = input(\"탑승 클래스 (Economy Class, Premium Economy, Business Class, First Class): \").strip()\n",
    "    route = input(\"여행 구간 (예: DXB to LHR): \").strip()\n",
    "    analyze_reviews = input(\"리뷰 분석 여부 (Yes/No): \").strip().lower() == \"yes\"\n",
    "    \n",
    "    print(\"서비스 선호도를 입력하세요 (1~5 순위):\")\n",
    "    preferences = {\n",
    "        \"Seat Comfort\": int(input(\"좌석 편안함 (1~5): \").strip()),\n",
    "        \"Cabin Staff Service\": int(input(\"객실 승무원 서비스 (1~5): \").strip()),\n",
    "        \"Food & Beverages\": int(input(\"기내 음식 및 음료 (1~5): \").strip()),\n",
    "        \"Inflight Entertainment\": int(input(\"기내 엔터테인먼트 (1~5): \").strip()),\n",
    "        \"Ground Service\": int(input(\"지상 직원 서비스 (1~5): \").strip()),\n",
    "        \"Wifi & Connectivity\": int(input(\"기내 와이파이 (1~5): \").strip()),\n",
    "        \"Value For Money\": int(input(\"가격 대비 가치 (1~5): \").strip()),\n",
    "    }\n",
    "    \n",
    "    return {\n",
    "        \"seat_type\": seat_type,\n",
    "        \"route\": route,\n",
    "        \"analyze_reviews\": analyze_reviews,\n",
    "        \"preferences\": preferences,\n",
    "    }\n",
    "\n",
    "user_input = get_user_input()\n"
   ]
  },
  {
   "cell_type": "markdown",
   "metadata": {},
   "source": [
    "# 2. OpenFlights 데이터셋 로드\n",
    "IATA 코드와 도시명을 매핑하기 위한 OpenFlights 데이터셋을 로드합니다.\n"
   ]
  },
  {
   "cell_type": "code",
   "execution_count": 11,
   "metadata": {},
   "outputs": [],
   "source": [
    "import pandas as pd\n",
    "\n",
    "def load_airport_mapping(file_path):\n",
    "    \"\"\"\n",
    "    OpenFlights 데이터셋에서 IATA 코드와 도시 이름 매핑 생성.\n",
    "    \"\"\"\n",
    "    columns = [\"Airport ID\", \"Name\", \"City\", \"Country\", \"IATA\", \"ICAO\", \"Latitude\",\n",
    "               \"Longitude\", \"Altitude\", \"Timezone\", \"DST\", \"Tz database time zone\", \"Type\", \"Source\"]\n",
    "    airport_data = pd.read_csv(file_path, header=None, names=columns)\n",
    "    return airport_data[[\"IATA\", \"City\"]].dropna().set_index(\"IATA\").to_dict()[\"City\"]\n",
    "\n",
    "file_path_airports = \"/home/gyuha_lee/Opensource_dev/get_information/mine/airports.dat\"\n",
    "airport_city_mapping = load_airport_mapping(file_path_airports)\n"
   ]
  },
  {
   "cell_type": "markdown",
   "metadata": {},
   "source": [
    "# 3. 데이터 로드 및 전처리\n",
    "리뷰 데이터셋을 로드하고 필요한 열만 유지합니다.\n"
   ]
  },
  {
   "cell_type": "code",
   "execution_count": 12,
   "metadata": {},
   "outputs": [],
   "source": [
    "import json\n",
    "\n",
    "def preprocess_data(file_path):\n",
    "    \"\"\"\n",
    "    데이터셋 로드 및 전처리.\n",
    "    \"\"\"\n",
    "    with open(file_path, 'r') as file:\n",
    "        data = json.load(file)\n",
    "    df = pd.DataFrame(data)\n",
    "\n",
    "    # 필요한 열만 유지\n",
    "    required_columns = [\n",
    "        \"Airline Name\", \"Route\", \"Seat Type\", \"Seat Comfort\",\n",
    "        \"Cabin Staff Service\", \"Food & Beverages\", \"Inflight Entertainment\",\n",
    "        \"Ground Service\", \"Wifi & Connectivity\", \"Value For Money\", \"Review Content\"\n",
    "    ]\n",
    "    df = df[required_columns]\n",
    "    return df\n",
    "\n",
    "file_path_reviews = \"/home/gyuha_lee/Opensource_dev/get_information/mine/all_airline_reviews.json\"\n",
    "df = preprocess_data(file_path_reviews)\n"
   ]
  },
  {
   "cell_type": "markdown",
   "metadata": {},
   "source": [
    "# 4. Route 정규화 및 필터링\n",
    "IATA 코드 기반 및 도시명 기반으로 데이터를 필터링합니다.  \n",
    "결과를 병합하고 중복 데이터를 제거합니다.\n"
   ]
  },
  {
   "cell_type": "code",
   "execution_count": 13,
   "metadata": {},
   "outputs": [
    {
     "name": "stdout",
     "output_type": "stream",
     "text": [
      "필터링된 데이터:\n",
      "                      Airline Name                 Mapped Routes\n",
      "0              Azerbaijan Airlines              DXB to LHR (nan)\n",
      "1                         Gulf Air              DXB to LHR (nan)\n",
      "2                         Gulf Air              DXB to LHR (nan)\n",
      "3            Royal Brunei Airlines              DXB to LHR (nan)\n",
      "4   Ukraine International Airlines              LHR to DXB (nan)\n",
      "5              Azerbaijan Airlines  DXB to LHR (Dubai to London)\n",
      "6                         Gulf Air  DXB to LHR (Dubai to London)\n",
      "7                         Gulf Air  DXB to LHR (Dubai to London)\n",
      "8                 Pegasus Airlines  STN to DXB (London to Dubai)\n",
      "9                 Pegasus Airlines  STN to DXB (London to Dubai)\n",
      "10                Pegasus Airlines  STN to DXB (London to Dubai)\n",
      "11           Royal Brunei Airlines  DXB to LHR (Dubai to London)\n",
      "12  Ukraine International Airlines  LHR to DXB (London to Dubai)\n"
     ]
    }
   ],
   "source": [
    "def normalize_route(route, mapping, to_city=False):\n",
    "    \"\"\"\n",
    "    Route 값을 IATA 코드 또는 도시 이름으로 정규화.\n",
    "    \"\"\"\n",
    "    if pd.isnull(route) or isinstance(route, (int, float)):\n",
    "        return \"\"\n",
    "    if \"via\" in route.lower():\n",
    "        route = route.split(\"via\")[0].strip()\n",
    "    route_parts = route.lower().replace(\"to\", \"\").split()\n",
    "    \n",
    "    # IATA 코드 <-> 도시명 변환\n",
    "    normalized_parts = []\n",
    "    for part in route_parts:\n",
    "        if to_city:  # IATA 코드를 도시명으로 변환\n",
    "            normalized_parts.append(mapping.get(part.upper(), part))\n",
    "        else:  # 그대로 IATA 코드 유지\n",
    "            normalized_parts.append(part.upper())\n",
    "\n",
    "    # 두 개의 구간만 있는 경우 \" to \"로 연결\n",
    "    if len(normalized_parts) == 2:\n",
    "        return \" to \".join(normalized_parts).strip()\n",
    "    return \"\"\n",
    "\n",
    "def match_route(input_route, data_route):\n",
    "    \"\"\"\n",
    "    입력 Route와 데이터 Route를 양방향으로 비교.\n",
    "    \"\"\"\n",
    "    try:\n",
    "        input_start, input_end = input_route.split(\" to \")\n",
    "        data_start, data_end = data_route.split(\" to \")\n",
    "        return (\n",
    "            (input_start == data_start and input_end == data_end) or\n",
    "            (input_start == data_end and input_end == data_start)\n",
    "        )\n",
    "    except ValueError:\n",
    "        return False\n",
    "\n",
    "def filter_data_by_iata(df, user_input):\n",
    "    \"\"\"\n",
    "    IATA 코드 기반 필터링.\n",
    "    \"\"\"\n",
    "    seat_type = user_input[\"seat_type\"].strip().lower()\n",
    "    input_route = user_input[\"route\"].strip()\n",
    "\n",
    "    # 입력 Route 정규화 (IATA 코드 기준)\n",
    "    normalized_input_route = normalize_route(input_route, airport_city_mapping, to_city=False)\n",
    "\n",
    "    # 데이터셋의 Route 정규화 (IATA 코드 기준)\n",
    "    df[\"Normalized Route (IATA)\"] = df[\"Route\"].apply(lambda r: normalize_route(r, airport_city_mapping, to_city=False))\n",
    "\n",
    "    # 필터링\n",
    "    filtered_df = df[df[\"Seat Type\"].str.strip().str.lower() == seat_type]\n",
    "    filtered_df = filtered_df[filtered_df[\"Normalized Route (IATA)\"].apply(lambda r: match_route(normalized_input_route, r))]\n",
    "    return filtered_df\n",
    "\n",
    "def filter_data_by_city(df, user_input, mapping):\n",
    "    \"\"\"\n",
    "    도시명 기반 필터링.\n",
    "    \"\"\"\n",
    "    seat_type = user_input[\"seat_type\"].strip().lower()\n",
    "    input_route = user_input[\"route\"].strip()\n",
    "\n",
    "    # 입력 Route 정규화 (도시명 기준)\n",
    "    normalized_input_route = normalize_route(input_route, mapping, to_city=True)\n",
    "\n",
    "    # 데이터셋의 Route 정규화 (도시명 기준)\n",
    "    df[\"Normalized Route (City)\"] = df[\"Route\"].apply(lambda r: normalize_route(r, mapping, to_city=True))\n",
    "\n",
    "    # 필터링\n",
    "    filtered_df = df[df[\"Seat Type\"].str.strip().str.lower() == seat_type]\n",
    "    filtered_df = filtered_df[filtered_df[\"Normalized Route (City)\"].apply(lambda r: match_route(normalized_input_route, r))]\n",
    "    return filtered_df\n",
    "\n",
    "def merge_filtered_results(iata_results, city_results):\n",
    "    \"\"\"\n",
    "    IATA 코드 기반과 도시명 기반 필터링 결과를 병합하고 중복 제거.\n",
    "    \"\"\"\n",
    "    merged_df = pd.concat([iata_results, city_results]).drop_duplicates().reset_index(drop=True)\n",
    "\n",
    "    # 병합된 데이터를 보기 좋게 정리\n",
    "    merged_df[\"Mapped Routes\"] = merged_df.apply(\n",
    "        lambda row: f\"{row['Normalized Route (IATA)']} ({row['Normalized Route (City)']})\", axis=1\n",
    "    )\n",
    "\n",
    "    # 중복된 열 제거\n",
    "    merged_df = merged_df.drop(columns=[\"Normalized Route (IATA)\", \"Normalized Route (City)\"])\n",
    "    return merged_df\n",
    "\n",
    "# IATA 코드 기반 필터링\n",
    "filtered_by_iata = filter_data_by_iata(df, user_input)\n",
    "\n",
    "# 도시명 기반 필터링\n",
    "filtered_by_city = filter_data_by_city(df, user_input, airport_city_mapping)\n",
    "\n",
    "# 결과 병합 및 중복 제거\n",
    "merged_results = merge_filtered_results(filtered_by_iata, filtered_by_city)\n",
    "\n",
    "if merged_results.empty:\n",
    "    print(\"조건에 맞는 데이터가 없습니다. 입력 조건을 확인하세요.\")\n",
    "else:\n",
    "    print(\"필터링된 데이터:\")\n",
    "    print(merged_results[[\"Airline Name\", \"Mapped Routes\"]].head(100))\n"
   ]
  },
  {
   "cell_type": "markdown",
   "metadata": {},
   "source": [
    "# 5. 리뷰 감성 분석\n",
    "필터링된 데이터를 대상으로 BERT 모델을 사용하여 리뷰 감성 점수를 분석합니다.  \n",
    "이 점수는 이후 추천 점수 계산에 반영됩니다.\n"
   ]
  },
  {
   "cell_type": "code",
   "execution_count": 14,
   "metadata": {},
   "outputs": [
    {
     "name": "stdout",
     "output_type": "stream",
     "text": [
      "총 리뷰 개수: 13\n",
      "진행률: 100.00% (13/13)\n",
      "리뷰 감성 분석 완료!\n"
     ]
    }
   ],
   "source": [
    "import torch\n",
    "from transformers import AutoTokenizer, AutoModelForSequenceClassification\n",
    "\n",
    "def analyze_review_sentiment_pytorch(df, analyze_reviews):\n",
    "    \"\"\"\n",
    "    필터링된 데이터를 대상으로 리뷰 감성 분석 수행.\n",
    "    \"\"\"\n",
    "    if not analyze_reviews:\n",
    "        return df\n",
    "\n",
    "    # 디바이스 설정 (GPU 사용 가능 시 GPU로 설정)\n",
    "    device = torch.device(\"cuda\" if torch.cuda.is_available() else \"cpu\")\n",
    "\n",
    "    # BERT 모델 로드\n",
    "    model_name = \"nlptown/bert-base-multilingual-uncased-sentiment\"\n",
    "    tokenizer = AutoTokenizer.from_pretrained(model_name)\n",
    "    model = AutoModelForSequenceClassification.from_pretrained(model_name)\n",
    "    model.to(device)\n",
    "\n",
    "    def predict_sentiment(review):\n",
    "        \"\"\"\n",
    "        단일 리뷰 텍스트에 대해 감성 점수를 예측.\n",
    "        \"\"\"\n",
    "        if pd.isnull(review) or not review.strip():\n",
    "            return 0  # 빈 리뷰는 0점 처리\n",
    "        inputs = tokenizer(review, return_tensors=\"pt\", truncation=True, padding=True, max_length=512).to(device)\n",
    "        outputs = model(**inputs)\n",
    "        probs = torch.nn.functional.softmax(outputs.logits, dim=-1)\n",
    "        return torch.argmax(probs, dim=-1).item() + 1  # 감성 점수: 1~5\n",
    "\n",
    "    # 진행 상황 출력용\n",
    "    total_reviews = len(df)\n",
    "    print(f\"총 리뷰 개수: {total_reviews}\")\n",
    "\n",
    "    sentiment_scores = []\n",
    "    for idx, review in enumerate(df[\"Review Content\"]):\n",
    "        sentiment_scores.append(predict_sentiment(review))\n",
    "        progress = (idx + 1) / total_reviews * 100\n",
    "        print(f\"\\r진행률: {progress:.2f}% ({idx + 1}/{total_reviews})\", end=\"\")\n",
    "\n",
    "    print(\"\\n리뷰 감성 분석 완료!\")\n",
    "    df[\"Sentiment Score\"] = sentiment_scores\n",
    "    return df\n",
    "\n",
    "# 리뷰 감성 분석 실행\n",
    "filtered_data_with_sentiment = analyze_review_sentiment_pytorch(merged_results, user_input[\"analyze_reviews\"])\n"
   ]
  },
  {
   "cell_type": "markdown",
   "metadata": {},
   "source": [
    "# 6. 추천 점수 계산\n",
    "사용자의 서비스 선호도와 리뷰 감성 점수를 반영하여 추천 점수를 계산합니다.\n"
   ]
  },
  {
   "cell_type": "code",
   "execution_count": 15,
   "metadata": {},
   "outputs": [],
   "source": [
    "def calculate_recommendation_score(df, user_input):\n",
    "    \"\"\"\n",
    "    사용자 선호도 및 감성 점수를 기반으로 추천 점수 계산.\n",
    "    \"\"\"\n",
    "    preferences = user_input[\"preferences\"]\n",
    "    total_weight = sum(preferences.values())\n",
    "    weights = {k: v / total_weight for k, v in preferences.items()}  # 가중치 계산\n",
    "\n",
    "    # 추천 점수 계산\n",
    "    df[\"Recommendation Score\"] = (\n",
    "        df[\"Seat Comfort\"] * weights[\"Seat Comfort\"] +\n",
    "        df[\"Cabin Staff Service\"] * weights[\"Cabin Staff Service\"] +\n",
    "        df[\"Food & Beverages\"] * weights[\"Food & Beverages\"] +\n",
    "        df[\"Inflight Entertainment\"] * weights[\"Inflight Entertainment\"] +\n",
    "        df[\"Ground Service\"] * weights[\"Ground Service\"] +\n",
    "        df[\"Wifi & Connectivity\"] * weights[\"Wifi & Connectivity\"] +\n",
    "        df[\"Value For Money\"] * weights[\"Value For Money\"] +\n",
    "        df[\"Sentiment Score\"]\n",
    "    )\n",
    "    return df\n",
    "\n",
    "# 추천 점수 계산\n",
    "scored_data = calculate_recommendation_score(filtered_data_with_sentiment, user_input)\n"
   ]
  },
  {
   "cell_type": "markdown",
   "metadata": {},
   "source": [
    "# 7. 항공사 추천\n",
    "계산된 추천 점수를 기반으로 상위 5개의 항공사를 추천합니다.\n"
   ]
  },
  {
   "cell_type": "code",
   "execution_count": 16,
   "metadata": {},
   "outputs": [
    {
     "name": "stdout",
     "output_type": "stream",
     "text": [
      "추천 항공사:\n",
      "Airline Name\n",
      "Ukraine International Airlines    7.380952\n",
      "Azerbaijan Airlines               5.238095\n",
      "Royal Brunei Airlines             5.142857\n",
      "Pegasus Airlines                  3.841270\n",
      "Gulf Air                          2.166667\n",
      "Name: Recommendation Score, dtype: float64\n",
      "\n",
      "상세 추천 데이터:\n",
      "                     Airline Name                 Mapped Routes  \\\n",
      "0             Azerbaijan Airlines              DXB to LHR (nan)   \n",
      "1                        Gulf Air              DXB to LHR (nan)   \n",
      "2                        Gulf Air              DXB to LHR (nan)   \n",
      "3           Royal Brunei Airlines              DXB to LHR (nan)   \n",
      "4  Ukraine International Airlines              LHR to DXB (nan)   \n",
      "5             Azerbaijan Airlines  DXB to LHR (Dubai to London)   \n",
      "6                        Gulf Air  DXB to LHR (Dubai to London)   \n",
      "7                        Gulf Air  DXB to LHR (Dubai to London)   \n",
      "8                Pegasus Airlines  STN to DXB (London to Dubai)   \n",
      "9                Pegasus Airlines  STN to DXB (London to Dubai)   \n",
      "\n",
      "   Recommendation Score  \n",
      "0              5.238095  \n",
      "1              2.523810  \n",
      "2              1.809524  \n",
      "3              5.142857  \n",
      "4              7.380952  \n",
      "5              5.238095  \n",
      "6              2.523810  \n",
      "7              1.809524  \n",
      "8              8.047619  \n",
      "9              1.666667  \n"
     ]
    }
   ],
   "source": [
    "def recommend_airlines(df):\n",
    "    \"\"\"\n",
    "    추천 점수를 기반으로 상위 항공사를 추천.\n",
    "    \"\"\"\n",
    "    # 항공사별 추천 점수 평균 계산\n",
    "    airline_scores = df.groupby(\"Airline Name\")[\"Recommendation Score\"].mean().sort_values(ascending=False)\n",
    "    return airline_scores.head(5)\n",
    "\n",
    "# 상위 5개 항공사 추천\n",
    "recommendations = recommend_airlines(scored_data)\n",
    "\n",
    "print(\"추천 항공사:\")\n",
    "print(recommendations)\n",
    "\n",
    "print(\"\\n상세 추천 데이터:\")\n",
    "print(scored_data[[\"Airline Name\", \"Mapped Routes\", \"Recommendation Score\"]].head(10))"
   ]
  }
 ],
 "metadata": {
  "kernelspec": {
   "display_name": "opensource",
   "language": "python",
   "name": "python3"
  },
  "language_info": {
   "codemirror_mode": {
    "name": "ipython",
    "version": 3
   },
   "file_extension": ".py",
   "mimetype": "text/x-python",
   "name": "python",
   "nbconvert_exporter": "python",
   "pygments_lexer": "ipython3",
   "version": "3.9.20"
  }
 },
 "nbformat": 4,
 "nbformat_minor": 2
}
