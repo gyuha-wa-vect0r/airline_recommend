{
 "cells": [
  {
   "cell_type": "code",
   "execution_count": 6,
   "metadata": {},
   "outputs": [
    {
     "name": "stdout",
     "output_type": "stream",
     "text": [
      "2.5.1\n",
      "True\n"
     ]
    }
   ],
   "source": [
    "import pandas as pd\n",
    "from transformers import pipeline, AutoTokenizer, AutoModelForSequenceClassification\n",
    "import torch\n",
    "print(torch.__version__)  # PyTorch 버전 출력\n",
    "print(torch.cuda.is_available())  # CUDA 사용 가능 여부 확인"
   ]
  },
  {
   "cell_type": "code",
   "execution_count": 7,
   "metadata": {},
   "outputs": [],
   "source": [
    "\n",
    "# 1단계: 데이터 로드 및 전처리\n",
    "file_path = '/home/gyuha_lee/Opensource_dev/get_information/mine/Airline_review.csv'  # 데이터셋 경로를 업데이트하세요\n",
    "data = pd.read_csv(file_path)\n",
    "\n",
    "# 기본 전처리\n",
    "data['Review'] = data['Review'].str.lower().str.replace('[^\\w\\s]', '')  # 리뷰를 소문자로 변환하고 특수문자 제거\n",
    "data['Type Of Traveller'] = data['Type Of Traveller'].fillna('Unknown')  # 여행 유형의 결측값을 'Unknown'으로 채움\n"
   ]
  },
  {
   "cell_type": "code",
   "execution_count": 8,
   "metadata": {},
   "outputs": [
    {
     "name": "stderr",
     "output_type": "stream",
     "text": [
      "You seem to be using the pipelines sequentially on GPU. In order to maximize efficiency please use a dataset\n",
      "Token indices sequence length is longer than the specified maximum sequence length for this model (575 > 512). Running this sequence through the model will result in indexing errors\n"
     ]
    },
    {
     "name": "stdout",
     "output_type": "stream",
     "text": [
      "Progress: 100.00% (23171/23171)\r"
     ]
    }
   ],
   "source": [
    "\n",
    "# 2단계: BERT를 이용한 감성 분석\n",
    "# GPU 설정 및 모델 로드\n",
    "model_name = \"nlptown/bert-base-multilingual-uncased-sentiment\"\n",
    "sentiment_analyzer = pipeline(\n",
    "    \"sentiment-analysis\",\n",
    "    model=model_name,\n",
    "    device=0 if torch.cuda.is_available() else -1  # GPU 사용 설정\n",
    ")\n",
    "\n",
    "# 긴 리뷰를 최대 길이로 잘라내는 함수 정의\n",
    "def truncate_review(review, max_length=512):\n",
    "    return \" \".join(review.split()[:max_length])\n",
    "\n",
    "# 긴 리뷰를 자르고 감성 분석 수행\n",
    "data['Truncated_Review'] = data['Review'].apply(lambda x: truncate_review(x, max_length=512))\n",
    "\n",
    "# 진행률 출력하면서 감성 분석 수행\n",
    "sentiments = []\n",
    "total_reviews = len(data)\n",
    "progress_interval = max(total_reviews // 100, 1)  # 진행률 출력 간격 (1% 단위)\n",
    "\n",
    "for i, review in enumerate(data['Truncated_Review']):\n",
    "    try:\n",
    "        result = sentiment_analyzer(review)[0]['label']\n",
    "        sentiments.append(result)\n",
    "    except Exception as e:\n",
    "        sentiments.append(None)  # 에러 발생 시 None 처리\n",
    "    \n",
    "    # 진행 상태 출력\n",
    "    if (i + 1) % progress_interval == 0 or (i + 1) == total_reviews:\n",
    "        progress = (i + 1) / total_reviews * 100\n",
    "        print(f\"Progress: {progress:.2f}% ({i + 1}/{total_reviews})\", end=\"\\r\")\n",
    "\n",
    "# 감성 분석 결과를 데이터에 추가\n",
    "data['Sentiment'] = sentiments\n",
    "\n",
    "# 감성 점수를 숫자로 매핑\n",
    "sentiment_mapping = {\n",
    "    '1 star': -2, '2 stars': -1, '3 stars': 0, '4 stars': 1, '5 stars': 2\n",
    "}\n",
    "data['Sentiment_Score'] = data['Sentiment'].map(sentiment_mapping)"
   ]
  },
  {
   "cell_type": "code",
   "execution_count": 9,
   "metadata": {},
   "outputs": [],
   "source": [
    "\n",
    "# 3단계: 추천 함수 정의\n",
    "def recommend_airline(user_type, preference, seat_type):\n",
    "    \"\"\"\n",
    "    사용자 입력 및 리뷰 데이터를 분석하여 항공사를 추천합니다.\n",
    "    \n",
    "    Args:\n",
    "        user_type (str): 여행객 유형 (예: 'Solo Leisure', 'Business')\n",
    "        preference (str): 주요 선호 요소 (예: 'Service', 'Seat Comfort')\n",
    "        seat_type (str): 원하는 좌석 유형 (예: 'Economy Class')\n",
    "        \n",
    "    Returns:\n",
    "        pd.DataFrame: 추천 항공사 상위 목록\n",
    "    \"\"\"\n",
    "    # 사용자 입력에 맞는 데이터를 필터링\n",
    "    filtered_data = data[\n",
    "        (data['Type Of Traveller'] == user_type) &\n",
    "        (data['Seat Type'] == seat_type)\n",
    "    ]\n",
    "    \n",
    "    # 선호 요소와 감성 점수를 기반으로 점수 계산\n",
    "    preference_columns = {\n",
    "        'Service': 'Cabin Staff Service',\n",
    "        'Seat Comfort': 'Seat Comfort',\n",
    "        'Food': 'Food & Beverages'\n",
    "    }\n",
    "    filtered_data['Preference_Score'] = filtered_data[preference_columns[preference]].fillna(0)\n",
    "    filtered_data['Total_Score'] = filtered_data['Sentiment_Score'] + filtered_data['Preference_Score']\n",
    "    \n",
    "    # 항공사별로 점수를 집계하고 정렬\n",
    "    recommendations = (\n",
    "        filtered_data.groupby('Airline Name')['Total_Score']\n",
    "        .mean()\n",
    "        .sort_values(ascending=False)\n",
    "        .reset_index()\n",
    "    )\n",
    "    return recommendations.head(5)\n"
   ]
  },
  {
   "cell_type": "code",
   "execution_count": 10,
   "metadata": {},
   "outputs": [
    {
     "name": "stderr",
     "output_type": "stream",
     "text": [
      "/tmp/ipykernel_2206/2821009805.py:26: SettingWithCopyWarning: \n",
      "A value is trying to be set on a copy of a slice from a DataFrame.\n",
      "Try using .loc[row_indexer,col_indexer] = value instead\n",
      "\n",
      "See the caveats in the documentation: https://pandas.pydata.org/pandas-docs/stable/user_guide/indexing.html#returning-a-view-versus-a-copy\n",
      "  filtered_data['Preference_Score'] = filtered_data[preference_columns[preference]].fillna(0)\n",
      "/tmp/ipykernel_2206/2821009805.py:27: SettingWithCopyWarning: \n",
      "A value is trying to be set on a copy of a slice from a DataFrame.\n",
      "Try using .loc[row_indexer,col_indexer] = value instead\n",
      "\n",
      "See the caveats in the documentation: https://pandas.pydata.org/pandas-docs/stable/user_guide/indexing.html#returning-a-view-versus-a-copy\n",
      "  filtered_data['Total_Score'] = filtered_data['Sentiment_Score'] + filtered_data['Preference_Score']\n"
     ]
    }
   ],
   "source": [
    "\n",
    "# 4단계: 예시 실행\n",
    "# 사용자 입력\n",
    "user_type = 'Solo Leisure'  # 예: 혼자 여행하는 경우\n",
    "preference = 'Service'      # 예: 서비스 품질을 중시\n",
    "seat_type = 'Economy Class' # 예: 이코노미 클래스 선호\n",
    "\n",
    "# 추천 결과 도출\n",
    "top_airlines = recommend_airline(user_type, preference, seat_type)\n"
   ]
  },
  {
   "cell_type": "code",
   "execution_count": 11,
   "metadata": {},
   "outputs": [
    {
     "name": "stdout",
     "output_type": "stream",
     "text": [
      "추천 항공사 상위 목록:\n",
      "          Airline Name  Total_Score\n",
      "0         Air Zimbabwe          7.0\n",
      "1    Skytrans Airlines          7.0\n",
      "2  Air Iceland Connect          7.0\n",
      "3            Air Busan          7.0\n",
      "4          Bassaka Air          7.0\n"
     ]
    }
   ],
   "source": [
    "\n",
    "# 결과 출력\n",
    "print(\"추천 항공사 상위 목록:\")\n",
    "print(top_airlines)\n"
   ]
  }
 ],
 "metadata": {
  "kernelspec": {
   "display_name": "opensource",
   "language": "python",
   "name": "python3"
  },
  "language_info": {
   "codemirror_mode": {
    "name": "ipython",
    "version": 3
   },
   "file_extension": ".py",
   "mimetype": "text/x-python",
   "name": "python",
   "nbconvert_exporter": "python",
   "pygments_lexer": "ipython3",
   "version": "3.9.20"
  }
 },
 "nbformat": 4,
 "nbformat_minor": 2
}
