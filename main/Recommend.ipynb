{
 "cells": [
  {
   "cell_type": "markdown",
   "metadata": {},
   "source": [
    "### 1. 사용자 입력 받기\n",
    "사용자로부터 탑승 클래스, 여행 구간, 서비스 선호도, 리뷰 분석 여부를 입력받습니다.\n",
    "입력된 데이터는 이후 필터링 및 추천 점수 계산에 사용됩니다.\n"
   ]
  },
  {
   "cell_type": "code",
   "execution_count": 1,
   "metadata": {},
   "outputs": [
    {
     "name": "stdout",
     "output_type": "stream",
     "text": [
      "사용자 정보를 입력하세요:\n",
      "서비스 선호도를 입력하세요 (1~5 순위):\n"
     ]
    }
   ],
   "source": [
    "def get_user_input():\n",
    "    print(\"사용자 정보를 입력하세요:\")\n",
    "    \n",
    "    # 필수 입력 항목\n",
    "    seat_type = input(\"탑승 클래스 (Economy Class, Premium Economy, Business Class, First Class): \").strip()\n",
    "    route = input(\"여행 구간 (예: Seoul to New York): \").strip()\n",
    "    analyze_reviews = input(\"리뷰 분석 여부 (Yes/No): \").strip().lower() == \"yes\"\n",
    "    \n",
    "    # 선호도 입력\n",
    "    print(\"서비스 선호도를 입력하세요 (1~5 순위):\")\n",
    "    preferences = {\n",
    "        \"Seat Comfort\": int(input(\"좌석 편안함 (1~5): \").strip()),\n",
    "        \"Cabin Staff Service\": int(input(\"객실 승무원 서비스 (1~5): \").strip()),\n",
    "        \"Food & Beverages\": int(input(\"기내 음식 및 음료 (1~5): \").strip()),\n",
    "        \"Inflight Entertainment\": int(input(\"기내 엔터테인먼트 (1~5): \").strip()),\n",
    "        \"Ground Service\": int(input(\"지상 직원 서비스 (1~5): \").strip()),\n",
    "        \"Wifi & Connectivity\": int(input(\"기내 와이파이 (1~5): \").strip()),\n",
    "        \"Value For Money\": int(input(\"가격 대비 가치 (1~5): \").strip()),\n",
    "    }\n",
    "    \n",
    "    return {\n",
    "        \"seat_type\": seat_type,\n",
    "        \"route\": route,\n",
    "        \"analyze_reviews\": analyze_reviews,\n",
    "        \"preferences\": preferences,\n",
    "    }\n",
    "\n",
    "user_input = get_user_input()\n"
   ]
  },
  {
   "cell_type": "markdown",
   "metadata": {},
   "source": [
    "### 2. 데이터 로드 및 전처리\n",
    "JSON 데이터 파일을 로드한 후, 필요한 열만 유지하고 결측치를 처리합니다.\n",
    "Route 필드를 정규화하여 다양한 형식을 통일합니다.\n"
   ]
  },
  {
   "cell_type": "code",
   "execution_count": null,
   "metadata": {},
   "outputs": [],
   "source": []
  },
  {
   "cell_type": "markdown",
   "metadata": {},
   "source": [
    "### 3. Route 정규화 및 매칭\n",
    "Route 값을 정규화하고 입력값과 비교하여 출발지와 도착지가 일치하는지 확인합니다.\n",
    "경유지(`via`)는 무시합니다.\n"
   ]
  },
  {
   "cell_type": "code",
   "execution_count": 2,
   "metadata": {},
   "outputs": [],
   "source": [
    "def normalize_route(route):\n",
    "    \"\"\"\n",
    "    Route 값을 정규화합니다.\n",
    "    - null 값은 빈 문자열로 대체.\n",
    "    - 숫자 값은 빈 문자열로 처리.\n",
    "    - via 이후 경유지를 제거.\n",
    "    - to, 공백 등을 제거하여 단순화.\n",
    "    \"\"\"\n",
    "    if pd.isnull(route) or isinstance(route, (int, float)):\n",
    "        return \"\"\n",
    "    if \"via\" in route.lower():\n",
    "        route = route.split(\"via\")[0].strip()\n",
    "    return route.lower().replace(\"to\", \"\").replace(\" \", \"\")\n",
    "\n",
    "\n",
    "def extract_route_parts(route):\n",
    "    \"\"\"\n",
    "    Route에서 출발지와 도착지를 추출합니다.\n",
    "    \"\"\"\n",
    "    if not route:\n",
    "        return \"\", \"\"\n",
    "    parts = route.split(\"to\")\n",
    "    start = parts[0].strip() if len(parts) > 0 else \"\"\n",
    "    end = parts[1].strip() if len(parts) > 1 else \"\"\n",
    "    return start, end\n",
    "\n",
    "def match_route(input_route, data_route):\n",
    "    \"\"\"\n",
    "    입력값과 데이터셋의 Route를 비교합니다.\n",
    "    - 출발지와 도착지가 동일한 경우 True 반환.\n",
    "    \"\"\"\n",
    "    input_start, input_end = extract_route_parts(normalize_route(input_route))\n",
    "    data_start, data_end = extract_route_parts(normalize_route(data_route))\n",
    "    return (input_start == data_start and input_end == data_end) or \\\n",
    "           (input_start == data_end and input_end == data_start)\n"
   ]
  },
  {
   "cell_type": "markdown",
   "metadata": {},
   "source": [
    "### 4. 데이터 필터링\n",
    "입력된 탑승 클래스와 여행 구간을 기준으로 데이터셋을 필터링합니다.\n"
   ]
  },
  {
   "cell_type": "code",
   "execution_count": 3,
   "metadata": {},
   "outputs": [
    {
     "ename": "NameError",
     "evalue": "name 'df' is not defined",
     "output_type": "error",
     "traceback": [
      "\u001b[0;31m---------------------------------------------------------------------------\u001b[0m",
      "\u001b[0;31mNameError\u001b[0m                                 Traceback (most recent call last)",
      "Cell \u001b[0;32mIn[3], line 20\u001b[0m\n\u001b[1;32m     16\u001b[0m         filtered_df \u001b[38;5;241m=\u001b[39m filtered_df[filtered_df[\u001b[38;5;124m\"\u001b[39m\u001b[38;5;124mRoute\u001b[39m\u001b[38;5;124m\"\u001b[39m]\u001b[38;5;241m.\u001b[39mapply(\u001b[38;5;28;01mlambda\u001b[39;00m r: match_route(input_route, r))]\n\u001b[1;32m     18\u001b[0m     \u001b[38;5;28;01mreturn\u001b[39;00m filtered_df\n\u001b[0;32m---> 20\u001b[0m filtered_data \u001b[38;5;241m=\u001b[39m filter_data(\u001b[43mdf\u001b[49m, user_input)\n\u001b[1;32m     22\u001b[0m \u001b[38;5;28;01mif\u001b[39;00m filtered_data\u001b[38;5;241m.\u001b[39mempty:\n\u001b[1;32m     23\u001b[0m     \u001b[38;5;28mprint\u001b[39m(\u001b[38;5;124m\"\u001b[39m\u001b[38;5;124m조건에 맞는 데이터가 없습니다. 입력 조건을 확인하세요.\u001b[39m\u001b[38;5;124m\"\u001b[39m)\n",
      "\u001b[0;31mNameError\u001b[0m: name 'df' is not defined"
     ]
    }
   ],
   "source": [
    "def filter_data(df, user_input):\n",
    "    \"\"\"\n",
    "    사용자 입력값에 따라 데이터를 필터링합니다.\n",
    "    \"\"\"\n",
    "    seat_type = user_input[\"seat_type\"].strip().lower()\n",
    "    input_route = user_input[\"route\"].strip()\n",
    "    \n",
    "    # 데이터 정리\n",
    "    df[\"Seat Type\"] = df[\"Seat Type\"].str.strip().str.lower()\n",
    "    \n",
    "    # 탑승 클래스 필터링\n",
    "    filtered_df = df[df[\"Seat Type\"] == seat_type]\n",
    "    \n",
    "    # 여행 구간 필터링\n",
    "    if input_route:\n",
    "        filtered_df = filtered_df[filtered_df[\"Route\"].apply(lambda r: match_route(input_route, r))]\n",
    "    \n",
    "    return filtered_df\n",
    "\n",
    "filtered_data = filter_data(df, user_input)\n",
    "\n",
    "if filtered_data.empty:\n",
    "    print(\"조건에 맞는 데이터가 없습니다. 입력 조건을 확인하세요.\")\n",
    "else:\n",
    "    print(\"필터링된 데이터:\")\n",
    "    print(filtered_data.head(50))\n"
   ]
  },
  {
   "cell_type": "markdown",
   "metadata": {},
   "source": [
    "### 5. 리뷰 감성 분석\n",
    "BERT 모델을 사용하여 리뷰 텍스트를 분석하고 감성 점수를 추가합니다.\n"
   ]
  },
  {
   "cell_type": "code",
   "execution_count": null,
   "metadata": {},
   "outputs": [
    {
     "name": "stdout",
     "output_type": "stream",
     "text": [
      "Using device: cuda\n",
      "Progress: 100.00% (3/3)\n"
     ]
    }
   ],
   "source": [
    "import sys\n",
    "import torch\n",
    "from transformers import AutoTokenizer, AutoModelForSequenceClassification\n",
    "\n",
    "def analyze_review_sentiment_pytorch_progress(df, analyze_reviews):\n",
    "    \"\"\"\n",
    "    PyTorch 기반 BERT 모델로 리뷰 감성 분석을 수행합니다.\n",
    "    - 리뷰가 없거나 비어 있는 경우 0점 반환.\n",
    "    - GPU를 사용하여 처리 속도를 향상시킵니다.\n",
    "    - 진행률은 같은 줄에서 실시간으로 업데이트됩니다.\n",
    "    \"\"\"\n",
    "    if not analyze_reviews:\n",
    "        print(\"리뷰 분석이 비활성화되었습니다.\")\n",
    "        return df\n",
    "    \n",
    "    # GPU 설정\n",
    "    device = torch.device(\"cuda\" if torch.cuda.is_available() else \"cpu\")\n",
    "    print(f\"Using device: {device}\")\n",
    "    \n",
    "    # 모델 로드\n",
    "    model_name = \"nlptown/bert-base-multilingual-uncased-sentiment\"\n",
    "    tokenizer = AutoTokenizer.from_pretrained(model_name)\n",
    "    model = AutoModelForSequenceClassification.from_pretrained(model_name)\n",
    "    model.to(device)\n",
    "\n",
    "    def predict_sentiment(review):\n",
    "        if pd.isnull(review) or not review.strip():\n",
    "            return 0\n",
    "        inputs = tokenizer(review, return_tensors=\"pt\", truncation=True, padding=True, max_length=512).to(device)\n",
    "        outputs = model(**inputs)\n",
    "        probs = torch.nn.functional.softmax(outputs.logits, dim=-1)\n",
    "        sentiment_score = torch.argmax(probs, dim=-1).item() + 1\n",
    "        return sentiment_score\n",
    "\n",
    "    # 감성 점수 계산 및 진행률 출력\n",
    "    total_reviews = len(df)\n",
    "    sentiment_scores = []\n",
    "    for index, review in enumerate(df[\"Review Content\"]):\n",
    "        sentiment_scores.append(predict_sentiment(review))\n",
    "        percent_complete = ((index + 1) / total_reviews) * 100\n",
    "        sys.stdout.write(f\"\\rProgress: {percent_complete:.2f}% ({index + 1}/{total_reviews})\")\n",
    "        sys.stdout.flush()\n",
    "    \n",
    "    print()  # 진행 완료 후 줄바꿈\n",
    "    df[\"Sentiment Score\"] = sentiment_scores\n",
    "    return df\n",
    "\n",
    "# 리뷰 감성 분석 수행\n",
    "filtered_data = analyze_review_sentiment_pytorch_progress(filtered_data, user_input[\"analyze_reviews\"])\n"
   ]
  },
  {
   "cell_type": "markdown",
   "metadata": {},
   "source": [
    "### 6. 추천 점수 계산\n",
    "필터링된 데이터와 감성 점수를 기반으로 가중 평균 점수를 계산합니다.\n"
   ]
  },
  {
   "cell_type": "code",
   "execution_count": null,
   "metadata": {},
   "outputs": [],
   "source": [
    "def calculate_recommendation_score(df, user_input):\n",
    "    preferences = user_input[\"preferences\"]\n",
    "    total_weight = sum(preferences.values())\n",
    "    \n",
    "    # 가중치 계산\n",
    "    weights = {k: v / total_weight for k, v in preferences.items()}\n",
    "    \n",
    "    df[\"Recommendation Score\"] = (\n",
    "        df[\"Seat Comfort\"] * weights[\"Seat Comfort\"] +\n",
    "        df[\"Cabin Staff Service\"] * weights[\"Cabin Staff Service\"] +\n",
    "        df[\"Food & Beverages\"] * weights[\"Food & Beverages\"] +\n",
    "        df[\"Inflight Entertainment\"] * weights[\"Inflight Entertainment\"] +\n",
    "        df[\"Ground Service\"] * weights[\"Ground Service\"] +\n",
    "        df[\"Wifi & Connectivity\"] * weights[\"Wifi & Connectivity\"] +\n",
    "        df[\"Value For Money\"] * weights[\"Value For Money\"] +\n",
    "        df.get(\"Sentiment Score\", 0)\n",
    "    )\n",
    "    \n",
    "    return df\n",
    "\n",
    "scored_data = calculate_recommendation_score(filtered_data, user_input)\n"
   ]
  },
  {
   "cell_type": "markdown",
   "metadata": {},
   "source": [
    "###  7. 항공사 추천\n",
    "추천 점수를 기반으로 상위 5개의 항공사를 추천합니다.\n"
   ]
  },
  {
   "cell_type": "code",
   "execution_count": null,
   "metadata": {},
   "outputs": [
    {
     "name": "stdout",
     "output_type": "stream",
     "text": [
      "추천 항공사:\n",
      "Airline Name\n",
      "Air Busan    8.023810\n",
      "Eastarjet    6.380952\n",
      "Name: Recommendation Score, dtype: float64\n"
     ]
    }
   ],
   "source": [
    "def recommend_airlines(df):\n",
    "    airline_scores = df.groupby(\"Airline Name\")[\"Recommendation Score\"].mean().sort_values(ascending=False)\n",
    "    return airline_scores.head(5)\n",
    "\n",
    "recommendations = recommend_airlines(scored_data)\n",
    "print(\"추천 항공사:\")\n",
    "print(recommendations)"
   ]
  }
 ],
 "metadata": {
  "kernelspec": {
   "display_name": "opensource",
   "language": "python",
   "name": "python3"
  },
  "language_info": {
   "codemirror_mode": {
    "name": "ipython",
    "version": 3
   },
   "file_extension": ".py",
   "mimetype": "text/x-python",
   "name": "python",
   "nbconvert_exporter": "python",
   "pygments_lexer": "ipython3",
   "version": "3.9.20"
  }
 },
 "nbformat": 4,
 "nbformat_minor": 2
}
